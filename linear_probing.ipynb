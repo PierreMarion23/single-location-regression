{
 "cells": [
  {
   "cell_type": "code",
   "execution_count": 2,
   "id": "4fc16db8-9345-4f15-88f5-a448b8d98448",
   "metadata": {},
   "outputs": [
    {
     "name": "stderr",
     "output_type": "stream",
     "text": [
      "/Users/pmarion/miniforge3/envs/single-location-regression/lib/python3.9/site-packages/tqdm/auto.py:21: TqdmWarning: IProgress not found. Please update jupyter and ipywidgets. See https://ipywidgets.readthedocs.io/en/stable/user_install.html\n",
      "  from .autonotebook import tqdm as notebook_tqdm\n"
     ]
    }
   ],
   "source": [
    "import distutils.spawn\n",
    "import itertools\n",
    "import os\n",
    "\n",
    "from matplotlib import pyplot as plt\n",
    "from matplotlib import rc\n",
    "import numpy as np\n",
    "import pandas as pd\n",
    "import pickle\n",
    "import seaborn as sns\n",
    "from sklearn.linear_model import LogisticRegression\n",
    "from transformers import AutoTokenizer, BertModel"
   ]
  },
  {
   "cell_type": "code",
   "execution_count": 3,
   "id": "df666025",
   "metadata": {},
   "outputs": [],
   "source": [
    "os.makedirs(\"figures\", exist_ok=True)\n",
    "os.makedirs(\"pickles\", exist_ok=True)"
   ]
  },
  {
   "cell_type": "code",
   "execution_count": 4,
   "id": "73aa59ce-3b9b-4921-84d6-b0f74899ad2e",
   "metadata": {},
   "outputs": [
    {
     "name": "stderr",
     "output_type": "stream",
     "text": [
      "/var/folders/5t/1858x_sn3kz5tw252hv5nw3w0000gn/T/ipykernel_50656/1401616683.py:2: DeprecationWarning: Use shutil.which instead of find_executable\n",
      "  if distutils.spawn.find_executable('latex'):\n"
     ]
    }
   ],
   "source": [
    "sns.set(font_scale=1.15)\n",
    "if distutils.spawn.find_executable('latex'):\n",
    "    rc('font', **{'family': 'serif', 'serif': ['Computer Modern']})\n",
    "    rc('text', usetex=True)"
   ]
  },
  {
   "cell_type": "code",
   "execution_count": 5,
   "id": "d9ad9e89-1216-4988-91be-43f3d4a6083e",
   "metadata": {},
   "outputs": [
    {
     "name": "stderr",
     "output_type": "stream",
     "text": [
      "/Users/pmarion/miniforge3/envs/single-location-regression/lib/python3.9/site-packages/huggingface_hub/file_download.py:1142: FutureWarning: `resume_download` is deprecated and will be removed in version 1.0.0. Downloads always resume when possible. If you want to force a new download, use `force_download=True`.\n",
      "  warnings.warn(\n",
      "/Users/pmarion/miniforge3/envs/single-location-regression/lib/python3.9/site-packages/transformers/modeling_utils.py:415: FutureWarning: You are using `torch.load` with `weights_only=False` (the current default value), which uses the default pickle module implicitly. It is possible to construct malicious pickle data which will execute arbitrary code during unpickling (See https://github.com/pytorch/pytorch/blob/main/SECURITY.md#untrusted-models for more details). In a future release, the default value for `weights_only` will be flipped to `True`. This limits the functions that could be executed during unpickling. Arbitrary objects will no longer be allowed to be loaded via this mode unless they are explicitly allowlisted by the user via `torch.serialization.add_safe_globals`. We recommend you start setting `weights_only=True` for any use case where you don't have full control of the loaded file. Please open an issue on GitHub for any issues related to this experimental feature.\n",
      "  return torch.load(checkpoint_file, map_location=\"cpu\")\n",
      "Some weights of the model checkpoint at bert-base-uncased were not used when initializing BertModel: ['cls.seq_relationship.weight', 'cls.predictions.transform.LayerNorm.bias', 'cls.predictions.bias', 'cls.predictions.decoder.weight', 'cls.predictions.transform.LayerNorm.weight', 'cls.predictions.transform.dense.weight', 'cls.seq_relationship.bias', 'cls.predictions.transform.dense.bias']\n",
      "- This IS expected if you are initializing BertModel from the checkpoint of a model trained on another task or with another architecture (e.g. initializing a BertForSequenceClassification model from a BertForPreTraining model).\n",
      "- This IS NOT expected if you are initializing BertModel from the checkpoint of a model that you expect to be exactly identical (initializing a BertForSequenceClassification model from a BertForSequenceClassification model).\n"
     ]
    }
   ],
   "source": [
    "tokenizer = AutoTokenizer.from_pretrained(\"bert-base-uncased\")\n",
    "model = BertModel.from_pretrained(\"bert-base-uncased\")"
   ]
  },
  {
   "cell_type": "code",
   "execution_count": 6,
   "id": "d57bbe33-a530-4cd4-a88a-7fe803586513",
   "metadata": {},
   "outputs": [],
   "source": [
    "# The examples are obtained by doing a cartesian product over all words in the lists.\n",
    "# The label is obtained as the product of the numbers after the words.\n",
    "train_lists_a = {\n",
    "    'city': [('The city is', 1)],\n",
    "    'city_size': [('nice.', 1), ('dreadful.', 1), ('clean.', 1), ('dirty.', 1)],\n",
    "    'pronouns': [('my', 1), ('his', 1), ('her', 1), ('our', 1)],\n",
    "    'color': [('', 1), ('blue', 1), ('orange', 1), ('beige', 1), ('green', 1), ('red', 1)],\n",
    "    'animal': [('dog', 1), ('owl', 1), ('cow', 1)],\n",
    "    'verb': [('is', 1)],\n",
    "    '(adverb': [('', 1), ('very', 1), ('extremely', 1)],\n",
    "    'adjective': [('nice', 1), ('mean', -1), ('cute', 1), ('dreadful', -1), ('aggressive', -1), ('delightful', 1)],\n",
    "}"
   ]
  },
  {
   "cell_type": "code",
   "execution_count": 7,
   "id": "5ce2b07b-c0be-459a-99a7-813bbb6a1813",
   "metadata": {},
   "outputs": [],
   "source": [
    "# another order.\n",
    "train_lists_b = {\n",
    "    'city': [('The city is', 1)],\n",
    "    'city_size': [('nice.', 1), ('dreadful.', 1), ('clean.', 1), ('dirty.', 1)],\n",
    "    'pronouns': [('my', 1), ('his', 1), ('her', 1), ('our', 1)],\n",
    "    'color': [('', 1), ('blue', 1), ('orange', 1), ('beige', 1), ('green', 1), ('red', 1)],\n",
    "    'adjective': [('nice', 1), ('mean', -1), ('cute', 1), ('dreadful', -1), ('aggressive', -1), ('delightful', 1)],\n",
    "    'animal': [('dog', 1), ('owl', 1), ('cow', 1)],\n",
    "    'verb': [('is', 1)],\n",
    "    '(adverb': [('', 1), ('very', 1), ('extremely', 1)],\n",
    "    'size': [('tiny', 1), ('giant', 1)],\n",
    "}"
   ]
  },
  {
   "cell_type": "code",
   "execution_count": 8,
   "id": "2b6a0f37-2ef0-41c8-9d3c-add338829276",
   "metadata": {},
   "outputs": [],
   "source": [
    "test_lists_a = {\n",
    "    'city': [('The city is', 1)],\n",
    "    'city_size': [('nice.', 1), ('dreadful.', 1), ('clean.', 1), ('dirty.', 1)],\n",
    "    'pronouns': [('their', 1), ('your', 1)],\n",
    "    'color': [('purple', 1), ('gray', 1)],\n",
    "    'adjective': [('nice', 1), ('mean', -1), ('cute', 1), ('dreadful', -1), ('aggressive', -1), ('delightful', 1)],\n",
    "    'animal': [('cat', 1), ('eagle', 1), ('goat', 1)],\n",
    "    'verb': [('is', 1)],\n",
    "    '(adverb': [('', 1), ('especially', 1)],\n",
    "    'size': [('big', 1), ('little', 1), ('mini', 1), ('enormous', 1)],\n",
    "}"
   ]
  },
  {
   "cell_type": "code",
   "execution_count": 9,
   "id": "760bbbfd-71ec-4eed-b4a5-08848d39bd6b",
   "metadata": {},
   "outputs": [],
   "source": [
    "# another order.\n",
    "test_lists_b = {\n",
    "    'city': [('The city is', 1)],\n",
    "    'city_size': [('nice.', 1), ('dreadful.', 1), ('clean.', 1), ('dirty.', 1)],\n",
    "    'pronouns': [('their', 1), ('your', 1)],\n",
    "    'color': [('purple', 1), ('gray', 1)],\n",
    "    'adjective': [('nice', 1), ('mean', -1), ('cute', 1), ('dreadful', -1), ('aggressive', -1), ('delightful', 1)],\n",
    "    'animal': [('cat', 1), ('eagle', 1), ('goat', 1)],\n",
    "    'verb': [('is', 1)],\n",
    "    '(adverb': [('', 1), ('especially', 1)],\n",
    "    'size': [('big', 1), ('little', 1), ('mini', 1), ('enormous', 1)],\n",
    "}"
   ]
  },
  {
   "cell_type": "code",
   "execution_count": 10,
   "id": "5030afc8-90b0-40cd-a9b5-f6aa6105904c",
   "metadata": {},
   "outputs": [],
   "source": [
    "# change the words that generate the labels.\n",
    "test_lists_c = {\n",
    "    'city': [('The city is', 1)],\n",
    "    'city_size': [('nice.', 1), ('dreadful.', 1), ('clean.', 1), ('dirty.', 1)],\n",
    "    'greetings': [('Good evening,', 1)],\n",
    "    'pronouns': [('their', 1), ('your', 1)],\n",
    "    'size': [('big', 1), ('little', 1), ('mini', 1), ('enormous', 1)],\n",
    "    'color': [('purple', 1), ('gray', 1)],\n",
    "    'animal': [('cat', 1), ('eagle', 1), ('goat', 1)],\n",
    "    'verb': [('is', 1)],\n",
    "    '(adverb': [('', 1), ('especially', 1)],\n",
    "    'adjective': [('lovely', 1), ('nasty', -1), ('charming', 1), ('foul', -1)],\n",
    "}"
   ]
  },
  {
   "cell_type": "code",
   "execution_count": 11,
   "id": "a5b8b0dd-9019-4d51-ac67-1be10967787b",
   "metadata": {},
   "outputs": [],
   "source": [
    "# change the words that generate the labels + another order.\n",
    "test_lists_d = {\n",
    "    'city': [('The city is', 1)],\n",
    "    'city_size': [('nice.', 1), ('dreadful.', 1), ('clean.', 1), ('dirty.', 1)],\n",
    "    'greetings': [('Good evening,', 1)],\n",
    "    'pronouns': [('their', 1), ('your', 1)],\n",
    "    'adjective': [('lovely', 1), ('nasty', -1), ('charming', 1), ('foul', -1)],\n",
    "    'color': [('purple', 1), ('gray', 1)],\n",
    "    'animal': [('cat', 1), ('eagle', 1), ('goat', 1)],\n",
    "    'verb': [('is', 1)],\n",
    "    '(adverb': [('', 1), ('especially', 1)],\n",
    "    'size': [('big', 1), ('little', 1), ('mini', 1), ('enormous', 1)],\n",
    "}"
   ]
  },
  {
   "cell_type": "code",
   "execution_count": 12,
   "id": "18095983-04a0-4560-b206-0dfee4ecbad5",
   "metadata": {},
   "outputs": [],
   "source": [
    "# change the sentence.\n",
    "test_lists_e = {\n",
    "    'question': [('Hello, how are you?', 1)],\n",
    "    'greetings': [('Good evening,', 1)],\n",
    "    'pronouns': [('their', 1), ('your', 1)],\n",
    "    'color': [('purple', 1), ('gray', 1)],\n",
    "    'animal': [('cat', 1), ('eagle', 1), ('goat', 1)],\n",
    "    'verb': [('is', 1)],\n",
    "    '(adverb': [('', 1), ('especially', 1)],\n",
    "    'adjective': [('nice', 1), ('mean', -1), ('cute', 1), ('dreadful', -1), ('aggressive', -1), ('delightful', 1)],\n",
    "}"
   ]
  },
  {
   "cell_type": "code",
   "execution_count": 13,
   "id": "5bd631d3-965e-4799-ab0b-f92478bfcb71",
   "metadata": {},
   "outputs": [],
   "source": [
    "# change the sentence and the words that generate the labels.\n",
    "test_lists_f = {\n",
    "    'question': [('Hello, how are you?', 1)],\n",
    "    'greetings': [('Good evening,', 1)],\n",
    "    'pronouns': [('their', 1), ('your', 1)],\n",
    "    'color': [('purple', 1), ('gray', 1)],\n",
    "    'animal': [('cat', 1), ('eagle', 1), ('goat', 1)],\n",
    "    'verb': [('is', 1)],\n",
    "    '(adverb': [('', 1), ('especially', 1)],\n",
    "    'adjective': [('lovely', 1), ('nasty', -1), ('charming', 1), ('foul', -1)],\n",
    "}"
   ]
  },
  {
   "cell_type": "code",
   "execution_count": 14,
   "id": "9058696f-ec0b-449a-9485-5d450c5f09e2",
   "metadata": {},
   "outputs": [],
   "source": [
    "def create(raw_lists):\n",
    "    X = []\n",
    "    y = []\n",
    "    for sentence in itertools.product(*raw_lists.values()):\n",
    "        X.append(' '.join([word[0] for word in sentence]).replace('  ', ' ').strip())\n",
    "        y.append(np.prod([word[1] for word in sentence]))\n",
    "    return X, y"
   ]
  },
  {
   "cell_type": "code",
   "execution_count": 15,
   "id": "25a0f315-8d71-4a37-b51c-76ff82b9ca35",
   "metadata": {},
   "outputs": [],
   "source": [
    "train_X_a, train_y_a = create(train_lists_a)\n",
    "train_X_b, train_y_b = create(train_lists_b)\n",
    "train_X_total = train_X_a + train_X_b\n",
    "train_y_total = train_y_a + train_y_b"
   ]
  },
  {
   "cell_type": "code",
   "execution_count": 16,
   "id": "5edadb23-ad76-4ed3-875e-d18d16fb6f56",
   "metadata": {},
   "outputs": [],
   "source": [
    "test_X_a, test_y_a = create(test_lists_a)\n",
    "test_X_b, test_y_b = create(test_lists_b)\n",
    "test_X_c, test_y_c = create(test_lists_c)\n",
    "test_X_d, test_y_d = create(test_lists_d)\n",
    "test_X_e, test_y_e = create(test_lists_e)\n",
    "test_X_f, test_y_f = create(test_lists_f)"
   ]
  },
  {
   "cell_type": "code",
   "execution_count": 17,
   "id": "e7e76082-0b2f-407e-b65a-617c7ea7e706",
   "metadata": {},
   "outputs": [],
   "source": [
    "def go_through_transformers(sentence_list):\n",
    "    result = []\n",
    "    for k, sentence in enumerate(sentence_list):\n",
    "        if k % 100 == 0:\n",
    "            print(k)\n",
    "        inputs = tokenizer(sentence, return_tensors=\"pt\")\n",
    "        result_k = []\n",
    "        outputs = model(**inputs, output_hidden_states=True)\n",
    "        for state in outputs.hidden_states:\n",
    "            # select only the first token of each sequence, i.e., [CLS] token\n",
    "            result_k.append(state[0][0].detach().numpy())\n",
    "        result.append(np.stack(result_k))\n",
    "    return np.stack(result)"
   ]
  },
  {
   "cell_type": "code",
   "execution_count": 18,
   "id": "cb2466cc-ad7d-4146-89b0-3a917a1f5971",
   "metadata": {
    "collapsed": true,
    "jupyter": {
     "outputs_hidden": true
    },
    "tags": []
   },
   "outputs": [
    {
     "name": "stdout",
     "output_type": "stream",
     "text": [
      "0\n",
      "100\n",
      "200\n",
      "300\n",
      "400\n",
      "500\n",
      "600\n",
      "700\n",
      "800\n",
      "900\n",
      "1000\n",
      "1100\n",
      "1200\n",
      "1300\n",
      "1400\n",
      "1500\n",
      "1600\n",
      "1700\n",
      "1800\n",
      "1900\n",
      "2000\n",
      "2100\n",
      "2200\n",
      "2300\n",
      "2400\n",
      "2500\n",
      "2600\n",
      "2700\n",
      "2800\n",
      "2900\n",
      "3000\n",
      "3100\n",
      "3200\n",
      "3300\n",
      "3400\n",
      "3500\n",
      "3600\n",
      "3700\n",
      "3800\n",
      "3900\n",
      "4000\n",
      "4100\n",
      "4200\n",
      "4300\n",
      "4400\n",
      "4500\n",
      "4600\n",
      "4700\n",
      "4800\n",
      "4900\n",
      "5000\n",
      "5100\n",
      "5200\n",
      "5300\n",
      "5400\n",
      "5500\n",
      "5600\n",
      "5700\n",
      "5800\n",
      "5900\n",
      "6000\n",
      "6100\n",
      "6200\n",
      "6300\n",
      "6400\n",
      "6500\n",
      "6600\n",
      "6700\n",
      "6800\n",
      "6900\n",
      "7000\n",
      "7100\n",
      "7200\n",
      "7300\n",
      "7400\n",
      "7500\n",
      "7600\n",
      "7700\n",
      "7800\n",
      "7900\n",
      "8000\n",
      "8100\n",
      "8200\n",
      "8300\n",
      "8400\n",
      "8500\n",
      "8600\n",
      "8700\n",
      "8800\n",
      "8900\n",
      "9000\n",
      "9100\n",
      "9200\n",
      "9300\n",
      "9400\n",
      "9500\n",
      "9600\n",
      "9700\n",
      "9800\n",
      "9900\n",
      "10000\n",
      "10100\n",
      "10200\n",
      "10300\n",
      "10400\n",
      "10500\n",
      "10600\n",
      "10700\n",
      "10800\n",
      "10900\n",
      "11000\n",
      "11100\n",
      "11200\n",
      "11300\n",
      "11400\n",
      "11500\n",
      "11600\n",
      "11700\n",
      "11800\n",
      "11900\n",
      "12000\n",
      "12100\n",
      "12200\n",
      "12300\n",
      "12400\n",
      "12500\n",
      "12600\n",
      "12700\n",
      "12800\n",
      "12900\n",
      "13000\n",
      "13100\n",
      "13200\n",
      "13300\n",
      "13400\n",
      "13500\n",
      "13600\n",
      "13700\n",
      "13800\n",
      "13900\n",
      "14000\n",
      "14100\n",
      "14200\n",
      "14300\n",
      "14400\n",
      "14500\n",
      "14600\n",
      "14700\n",
      "14800\n",
      "14900\n",
      "15000\n",
      "15100\n",
      "15200\n",
      "15300\n",
      "15400\n",
      "15500\n"
     ]
    }
   ],
   "source": [
    "hidden_states_train = go_through_transformers(train_X_total)"
   ]
  },
  {
   "cell_type": "code",
   "execution_count": 19,
   "id": "53c81883-c5dd-4bcf-8d96-09bf799fe547",
   "metadata": {},
   "outputs": [
    {
     "data": {
      "text/plain": [
       "(15552, 13, 768)"
      ]
     },
     "execution_count": 19,
     "metadata": {},
     "output_type": "execute_result"
    }
   ],
   "source": [
    "hidden_states_train.shape"
   ]
  },
  {
   "cell_type": "code",
   "execution_count": 20,
   "id": "d0a4d326-fe74-4d85-840a-178956f59f1b",
   "metadata": {},
   "outputs": [],
   "source": [
    "with open('pickles/hidden_states_train_X.pickle', 'wb') as f:\n",
    "    pickle.dump(hidden_states_train, f, pickle.HIGHEST_PROTOCOL)"
   ]
  },
  {
   "cell_type": "code",
   "execution_count": 6,
   "id": "f91eedbe-d62e-4a2e-8c06-664b2163e04f",
   "metadata": {},
   "outputs": [],
   "source": [
    "with open('pickles/hidden_states_train_X.pickle', 'rb') as f:\n",
    "    hidden_states_train = pickle.load(f)"
   ]
  },
  {
   "cell_type": "code",
   "execution_count": 21,
   "id": "30bfb110-9e16-4df2-8a55-211bbc25ab59",
   "metadata": {
    "tags": []
   },
   "outputs": [
    {
     "name": "stdout",
     "output_type": "stream",
     "text": [
      "0\n",
      "100\n",
      "200\n",
      "300\n",
      "400\n",
      "500\n",
      "600\n",
      "700\n",
      "800\n",
      "900\n",
      "1000\n",
      "1100\n",
      "1200\n",
      "1300\n",
      "1400\n",
      "1500\n",
      "1600\n",
      "1700\n",
      "1800\n",
      "1900\n",
      "2000\n",
      "2100\n",
      "2200\n",
      "2300\n",
      "0\n",
      "100\n",
      "200\n",
      "300\n",
      "400\n",
      "500\n",
      "600\n",
      "700\n",
      "800\n",
      "900\n",
      "1000\n",
      "1100\n",
      "1200\n",
      "1300\n",
      "1400\n",
      "1500\n",
      "1600\n",
      "1700\n",
      "1800\n",
      "1900\n",
      "2000\n",
      "2100\n",
      "2200\n",
      "2300\n",
      "0\n",
      "100\n",
      "200\n",
      "300\n",
      "400\n",
      "500\n",
      "600\n",
      "700\n",
      "800\n",
      "900\n",
      "1000\n",
      "1100\n",
      "1200\n",
      "1300\n",
      "1400\n",
      "1500\n",
      "0\n",
      "100\n",
      "200\n",
      "300\n",
      "400\n",
      "500\n",
      "600\n",
      "700\n",
      "800\n",
      "900\n",
      "1000\n",
      "1100\n",
      "1200\n",
      "1300\n",
      "1400\n",
      "1500\n",
      "0\n",
      "100\n",
      "0\n"
     ]
    }
   ],
   "source": [
    "hidden_states_test_X_a = go_through_transformers(test_X_a)\n",
    "hidden_states_test_X_b = go_through_transformers(test_X_b)\n",
    "hidden_states_test_X_c = go_through_transformers(test_X_c)\n",
    "hidden_states_test_X_d = go_through_transformers(test_X_d)\n",
    "hidden_states_test_X_e = go_through_transformers(test_X_e)\n",
    "hidden_states_test_X_f = go_through_transformers(test_X_f)"
   ]
  },
  {
   "cell_type": "code",
   "execution_count": 22,
   "id": "4aaa3f6c-99a2-418a-94e3-22140e459ada",
   "metadata": {},
   "outputs": [],
   "source": [
    "with open('pickles/hidden_states_test_X_a.pickle', 'wb') as f:\n",
    "    pickle.dump(hidden_states_test_X_a, f, pickle.HIGHEST_PROTOCOL)\n",
    "with open('pickles/hidden_states_test_X_b.pickle', 'wb') as f:\n",
    "    pickle.dump(hidden_states_test_X_b, f, pickle.HIGHEST_PROTOCOL)\n",
    "with open('pickles/hidden_states_test_X_c.pickle', 'wb') as f:\n",
    "    pickle.dump(hidden_states_test_X_c, f, pickle.HIGHEST_PROTOCOL)\n",
    "with open('pickles/hidden_states_test_X_d.pickle', 'wb') as f:\n",
    "    pickle.dump(hidden_states_test_X_d, f, pickle.HIGHEST_PROTOCOL)\n",
    "with open('pickles/hidden_states_test_X_e.pickle', 'wb') as f:\n",
    "    pickle.dump(hidden_states_test_X_e, f, pickle.HIGHEST_PROTOCOL)\n",
    "with open('pickles/hidden_states_test_X_f.pickle', 'wb') as f:\n",
    "    pickle.dump(hidden_states_test_X_f, f, pickle.HIGHEST_PROTOCOL)"
   ]
  },
  {
   "cell_type": "code",
   "execution_count": 4,
   "id": "fad2f9ba-fe23-46d2-9a21-a8c0a998b0b2",
   "metadata": {},
   "outputs": [],
   "source": [
    "with open('pickles/hidden_states_test_X_a.pickle', 'rb') as f:\n",
    "    hidden_states_test_X_a = pickle.load(f)\n",
    "with open('pickles/hidden_states_test_X_b.pickle', 'rb') as f:\n",
    "    hidden_states_test_X_b = pickle.load(f)\n",
    "with open('pickles/hidden_states_test_X_c.pickle', 'rb') as f:\n",
    "    hidden_states_test_X_c = pickle.load(f)\n",
    "with open('pickles/hidden_states_test_X_d.pickle', 'rb') as f:\n",
    "    hidden_states_test_X_d = pickle.load(f)\n",
    "with open('pickles/hidden_states_test_X_e.pickle', 'rb') as f:\n",
    "    hidden_states_test_X_e = pickle.load(f)\n",
    "with open('pickles/hidden_states_test_X_f.pickle', 'rb') as f:\n",
    "    hidden_states_test_X_f = pickle.load(f)"
   ]
  },
  {
   "cell_type": "code",
   "execution_count": 23,
   "id": "b89a9a8c-ab23-4ee6-be19-ba93490eae73",
   "metadata": {
    "tags": []
   },
   "outputs": [
    {
     "name": "stdout",
     "output_type": "stream",
     "text": [
      "0.5\n",
      "0.9764017489711934\n",
      "1.0\n",
      "1.0\n",
      "1.0\n",
      "1.0\n",
      "1.0\n",
      "1.0\n",
      "1.0\n",
      "1.0\n",
      "1.0\n",
      "1.0\n",
      "1.0\n"
     ]
    }
   ],
   "source": [
    "clfs = {}\n",
    "for k in range(13):\n",
    "    clfs[k] = LogisticRegression(solver='saga', max_iter=1_000).fit(hidden_states_train[:,k,:], train_y_total)\n",
    "    print(clfs[k].score(hidden_states_train[:,k,:], train_y_total))"
   ]
  },
  {
   "cell_type": "code",
   "execution_count": 24,
   "id": "75beffd4-d4c1-462a-b80c-d10f8b8fa41a",
   "metadata": {},
   "outputs": [],
   "source": [
    "results = {'Type': [], 'Accuracy': [], 'type_hue': []}"
   ]
  },
  {
   "cell_type": "code",
   "execution_count": 25,
   "id": "73579bd9-9654-42a3-89e4-a085105bceda",
   "metadata": {},
   "outputs": [],
   "source": [
    "for _ in range(10):\n",
    "    res = list((clfs[0].predict(hidden_states_train[:,0,:]) == np.array(train_y_total)).astype(float))\n",
    "    results['Type'].extend(['Initial \\n embeddings']*len(res))\n",
    "    results['Accuracy'].extend(res)\n",
    "    results['type_hue'].extend(['Initial \\n embeddings']*len(res))"
   ]
  },
  {
   "cell_type": "code",
   "execution_count": 26,
   "id": "f0c4f57a-4630-4a2e-93e2-9a9b46a57e3d",
   "metadata": {},
   "outputs": [],
   "source": [
    "for k in range(1, 13):\n",
    "    res = list((clfs[k].predict(hidden_states_train[:,k,:]) == np.array(train_y_total)).astype(float))\n",
    "    results['Type'].extend(['Train set']*len(res))\n",
    "    results['Accuracy'].extend(res)\n",
    "    results['type_hue'].extend(['Train set']*len(res))"
   ]
  },
  {
   "cell_type": "code",
   "execution_count": 27,
   "id": "64dd0cca-9b4a-4bd9-a8fe-30613f75912e",
   "metadata": {},
   "outputs": [],
   "source": [
    "for k in range(1, 13):\n",
    "    res = list((clfs[k].predict(hidden_states_test_X_a[:,k,:]) == np.array(test_y_a)).astype(float))\n",
    "    results['Type'].extend(['Test set']*len(res))\n",
    "    results['Accuracy'].extend(res)\n",
    "    results['type_hue'].extend(['Test']*len(res))\n",
    "    res = list((clfs[k].predict(hidden_states_test_X_b[:,k,:]) == np.array(test_y_b)).astype(float))\n",
    "    results['Type'].extend(['Test set']*len(res))\n",
    "    results['Accuracy'].extend(res)\n",
    "    results['type_hue'].extend(['Test']*len(res))\n",
    "    \n",
    "    res = list((clfs[k].predict(hidden_states_test_X_c[:,k,:]) == np.array(test_y_c)).astype(float))\n",
    "    results['Type'].extend(['Test OOD \\n tokens']*len(res))\n",
    "    results['Accuracy'].extend(res)\n",
    "    results['type_hue'].extend(['Test']*len(res))\n",
    "    res = list((clfs[k].predict(hidden_states_test_X_d[:,k,:]) == np.array(test_y_d)).astype(float))\n",
    "    results['Type'].extend(['Test OOD \\n tokens']*len(res))\n",
    "    results['Accuracy'].extend(res)\n",
    "    results['type_hue'].extend(['Test']*len(res))\n",
    "    \n",
    "    res = list((clfs[k].predict(hidden_states_test_X_e[:,k,:]) == np.array(test_y_e)).astype(float))\n",
    "    results['Type'].extend(['Test OOD \\n structure']*len(res))\n",
    "    results['Accuracy'].extend(res)\n",
    "    results['type_hue'].extend(['Test']*len(res))\n",
    "    \n",
    "    res = list((clfs[k].predict(hidden_states_test_X_f[:,k,:]) == np.array(test_y_f)).astype(float))\n",
    "    results['Type'].extend(['Test OOD \\n structure \\n + tokens']*len(res))\n",
    "    results['Accuracy'].extend(res)\n",
    "    results['type_hue'].extend(['Test']*len(res))"
   ]
  },
  {
   "cell_type": "code",
   "execution_count": 28,
   "id": "d53b1598-7646-415f-be4a-c3a45d854ec8",
   "metadata": {},
   "outputs": [],
   "source": [
    "df = pd.DataFrame(results)"
   ]
  },
  {
   "cell_type": "code",
   "execution_count": 29,
   "id": "0c6eb53f-d1d4-45a2-950b-374e2d1d5d71",
   "metadata": {},
   "outputs": [],
   "source": [
    "with open('pickles/result_transformer_exp.pickle', 'wb') as f:\n",
    "    pickle.dump(df, f, pickle.HIGHEST_PROTOCOL)"
   ]
  },
  {
   "cell_type": "code",
   "execution_count": 30,
   "id": "6dd34e7a-c1d3-414a-b26c-c300a0d65194",
   "metadata": {},
   "outputs": [
    {
     "data": {
      "text/html": [
       "<div>\n",
       "<style scoped>\n",
       "    .dataframe tbody tr th:only-of-type {\n",
       "        vertical-align: middle;\n",
       "    }\n",
       "\n",
       "    .dataframe tbody tr th {\n",
       "        vertical-align: top;\n",
       "    }\n",
       "\n",
       "    .dataframe thead th {\n",
       "        text-align: right;\n",
       "    }\n",
       "</style>\n",
       "<table border=\"1\" class=\"dataframe\">\n",
       "  <thead>\n",
       "    <tr style=\"text-align: right;\">\n",
       "      <th></th>\n",
       "      <th>Type</th>\n",
       "      <th>Accuracy</th>\n",
       "      <th>type_hue</th>\n",
       "    </tr>\n",
       "  </thead>\n",
       "  <tbody>\n",
       "    <tr>\n",
       "      <th>0</th>\n",
       "      <td>Initial \\n embeddings</td>\n",
       "      <td>0.0</td>\n",
       "      <td>Initial \\n embeddings</td>\n",
       "    </tr>\n",
       "    <tr>\n",
       "      <th>1</th>\n",
       "      <td>Initial \\n embeddings</td>\n",
       "      <td>1.0</td>\n",
       "      <td>Initial \\n embeddings</td>\n",
       "    </tr>\n",
       "    <tr>\n",
       "      <th>2</th>\n",
       "      <td>Initial \\n embeddings</td>\n",
       "      <td>0.0</td>\n",
       "      <td>Initial \\n embeddings</td>\n",
       "    </tr>\n",
       "    <tr>\n",
       "      <th>3</th>\n",
       "      <td>Initial \\n embeddings</td>\n",
       "      <td>1.0</td>\n",
       "      <td>Initial \\n embeddings</td>\n",
       "    </tr>\n",
       "    <tr>\n",
       "      <th>4</th>\n",
       "      <td>Initial \\n embeddings</td>\n",
       "      <td>1.0</td>\n",
       "      <td>Initial \\n embeddings</td>\n",
       "    </tr>\n",
       "  </tbody>\n",
       "</table>\n",
       "</div>"
      ],
      "text/plain": [
       "                    Type  Accuracy               type_hue\n",
       "0  Initial \\n embeddings       0.0  Initial \\n embeddings\n",
       "1  Initial \\n embeddings       1.0  Initial \\n embeddings\n",
       "2  Initial \\n embeddings       0.0  Initial \\n embeddings\n",
       "3  Initial \\n embeddings       1.0  Initial \\n embeddings\n",
       "4  Initial \\n embeddings       1.0  Initial \\n embeddings"
      ]
     },
     "execution_count": 30,
     "metadata": {},
     "output_type": "execute_result"
    }
   ],
   "source": [
    "df.head()"
   ]
  },
  {
   "cell_type": "code",
   "execution_count": 31,
   "id": "28e1da13-50d7-4163-80ad-12d3fe2951d3",
   "metadata": {},
   "outputs": [
    {
     "name": "stdout",
     "output_type": "stream",
     "text": [
      "huggingface/tokenizers: The current process just got forked, after parallelism has already been used. Disabling parallelism to avoid deadlocks...\n",
      "To disable this warning, you can either:\n",
      "\t- Avoid using `tokenizers` before the fork if possible\n",
      "\t- Explicitly set the environment variable TOKENIZERS_PARALLELISM=(true | false)\n"
     ]
    },
    {
     "data": {
      "image/png": "[encoded data removed]",
      "text/plain": [
       "<Figure size 640x480 with 1 Axes>"
      ]
     },
     "metadata": {},
     "output_type": "display_data"
    }
   ],
   "source": [
    "plt.figure()\n",
    "ax = sns.barplot(data=df, x='Type', y='Accuracy', hue='type_hue', legend=False)\n",
    "for container in ax.containers:\n",
    "    ax.bar_label(container, fmt='%.2f', fontsize=14)\n",
    "plt.xlabel('')\n",
    "plt.savefig('figures/exp_transformers.pdf', bbox_inches='tight')\n",
    "plt.show()"
   ]
  },
  {
   "cell_type": "code",
   "execution_count": null,
   "id": "9353c4eb-8a99-4f1b-86ae-9b7129c07e35",
   "metadata": {},
   "outputs": [],
   "source": []
  },
  {
   "cell_type": "code",
   "execution_count": null,
   "id": "c1b8dc36-c473-4fc7-a84e-ade1aadc9cd1",
   "metadata": {},
   "outputs": [],
   "source": []
  }
 ],
 "metadata": {
  "kernelspec": {
   "display_name": "Python 3 (ipykernel)",
   "language": "python",
   "name": "python3"
  },
  "language_info": {
   "codemirror_mode": {
    "name": "ipython",
    "version": 3
   },
   "file_extension": ".py",
   "mimetype": "text/x-python",
   "name": "python",
   "nbconvert_exporter": "python",
   "pygments_lexer": "ipython3",
   "version": "3.9.19"
  }
 },
 "nbformat": 4,
 "nbformat_minor": 5
}
